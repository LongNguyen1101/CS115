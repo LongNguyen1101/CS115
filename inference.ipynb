{
 "cells": [
  {
   "cell_type": "code",
   "execution_count": 10,
   "metadata": {},
   "outputs": [],
   "source": [
    "from pathlib import Path\n",
    "import torch\n",
    "import torch.nn as nn\n",
    "from config import get_config, latest_weights_file_path\n",
    "from train import get_model, get_ds, run_validation\n",
    "from translate import translate"
   ]
  },
  {
   "cell_type": "code",
   "execution_count": 9,
   "metadata": {},
   "outputs": [
    {
     "data": {
      "text/plain": [
       "<module 'translate' from '/Users/longnguyen/Desktop/School/SEM7/CS115-TCKHMT/Self study/Transformers/translate.py'>"
      ]
     },
     "execution_count": 9,
     "metadata": {},
     "output_type": "execute_result"
    }
   ],
   "source": [
    "import importlib\n",
    "import translate  \n",
    "\n",
    "importlib.reload(translate)\n"
   ]
  },
  {
   "cell_type": "code",
   "execution_count": 2,
   "metadata": {},
   "outputs": [
    {
     "name": "stdout",
     "output_type": "stream",
     "text": [
      "Using device: mps\n",
      "Max length of source sentence: 53\n",
      "Max length of target sentence: 64\n"
     ]
    },
    {
     "name": "stderr",
     "output_type": "stream",
     "text": [
      "/var/folders/sj/ftxn0vy92g7bsdxv_wb0vkdr0000gn/T/ipykernel_30059/2313338966.py:10: FutureWarning: You are using `torch.load` with `weights_only=False` (the current default value), which uses the default pickle module implicitly. It is possible to construct malicious pickle data which will execute arbitrary code during unpickling (See https://github.com/pytorch/pytorch/blob/main/SECURITY.md#untrusted-models for more details). In a future release, the default value for `weights_only` will be flipped to `True`. This limits the functions that could be executed during unpickling. Arbitrary objects will no longer be allowed to be loaded via this mode unless they are explicitly allowlisted by the user via `torch.serialization.add_safe_globals`. We recommend you start setting `weights_only=True` for any use case where you don't have full control of the loaded file. Please open an issue on GitHub for any issues related to this experimental feature.\n",
      "  state = torch.load(model_filename)\n"
     ]
    },
    {
     "data": {
      "text/plain": [
       "<All keys matched successfully>"
      ]
     },
     "execution_count": 2,
     "metadata": {},
     "output_type": "execute_result"
    }
   ],
   "source": [
    "# Define the device\n",
    "device = torch.device(\"cuda\" if torch.cuda.is_available() else \"mps\" if torch.mps.is_available() else \"cpu\")\n",
    "print(\"Using device:\", device)\n",
    "config = get_config()\n",
    "train_dataloader, val_dataloader, tokenizer_src, tokenizer_tgt = get_ds(config)\n",
    "model = get_model(config, tokenizer_src.get_vocab_size(), tokenizer_tgt.get_vocab_size()).to(device)\n",
    "\n",
    "# Load the pretrained weights\n",
    "model_filename = latest_weights_file_path(config)\n",
    "state = torch.load(model_filename)\n",
    "model.load_state_dict(state['model_state_dict'])"
   ]
  },
  {
   "cell_type": "code",
   "execution_count": 3,
   "metadata": {},
   "outputs": [
    {
     "name": "stderr",
     "output_type": "stream",
     "text": [
      "stty: stdin isn't a terminal\n"
     ]
    },
    {
     "name": "stdout",
     "output_type": "stream",
     "text": [
      "--------------------------------------------------------------------------------\n",
      "    SOURCE: My problem is I love Mary, but she doesn't love me.\n",
      "    TARGET: Vấn đề của tôi là tôi yêu mary, nhưng cô ấy không yêu tôi.\n",
      " PREDICTED: Vấn đề của tôi là tôi yêu mary , nhưng cô ấy không yêu tôi .\n",
      "--------------------------------------------------------------------------------\n",
      "    SOURCE: My husband always reads in bed.\n",
      "    TARGET: Chồng tôi luôn đọc sách trên giường.\n",
      " PREDICTED: Chồng tôi luôn đọc sách trên giường .\n",
      "--------------------------------------------------------------------------------\n",
      "    SOURCE: I'll pretend I didn't hear that.\n",
      "    TARGET: tôi sẽ giả vờ như tôi không nghe thấy điều đó\n",
      " PREDICTED: Tôi sẽ giả vờ rằng tôi không nghe thấy điều đó .\n",
      "--------------------------------------------------------------------------------\n",
      "    SOURCE: I don't think Tom needed to be here.\n",
      "    TARGET: tôi không nghĩ tom cần phải ở đây.\n",
      " PREDICTED: tôi không nghĩ tom cần phải ở đây .\n",
      "--------------------------------------------------------------------------------\n",
      "    SOURCE: What crime have I committed?\n",
      "    TARGET: tôi đã phạm tội gì?\n",
      " PREDICTED: tôi đã phạm tội gì ?\n",
      "--------------------------------------------------------------------------------\n",
      "    SOURCE: Can we rest here a second?\n",
      "    TARGET: chúng ta có thể nghỉ ngơi ở đây một giây không?\n",
      " PREDICTED: chúng ta có thể nghỉ ngơi ở đây một giây không ?\n",
      "--------------------------------------------------------------------------------\n",
      "    SOURCE: Now it's over\n",
      "    TARGET: bây giờ nó đã kết thúc\n",
      " PREDICTED: bây giờ là kết thúc\n",
      "--------------------------------------------------------------------------------\n",
      "    SOURCE: Tom left work early.\n",
      "    TARGET: tom nghỉ việc sớm.\n",
      " PREDICTED: tom rời đi làm sớm .\n",
      "--------------------------------------------------------------------------------\n",
      "    SOURCE: Akira will stay in New York while his money lasts.\n",
      "    TARGET: akira sẽ ở lại new york trong khi tiền của anh ấy kéo dài.\n",
      " PREDICTED: Kumi sẽ ở lại new york trong khi tiền của anh ấy kéo dài .\n",
      "--------------------------------------------------------------------------------\n",
      "    SOURCE: I couldn't agree with his opinion\n",
      "    TARGET: tôi không thể đồng ý với ý kiến của anh ấy\n",
      " PREDICTED: tôi không thể đồng ý với ý kiến của anh ấy\n",
      "--------------------------------------------------------------------------------\n"
     ]
    }
   ],
   "source": [
    "run_validation(model, val_dataloader, tokenizer_src, tokenizer_tgt, config['seq_len'], device, lambda msg: print(msg), 0, None, num_examples=10)"
   ]
  },
  {
   "cell_type": "code",
   "execution_count": 11,
   "metadata": {},
   "outputs": [
    {
     "name": "stderr",
     "output_type": "stream",
     "text": [
      "/Users/longnguyen/Desktop/School/SEM7/CS115-TCKHMT/Self study/Transformers/translate.py:21: FutureWarning: You are using `torch.load` with `weights_only=False` (the current default value), which uses the default pickle module implicitly. It is possible to construct malicious pickle data which will execute arbitrary code during unpickling (See https://github.com/pytorch/pytorch/blob/main/SECURITY.md#untrusted-models for more details). In a future release, the default value for `weights_only` will be flipped to `True`. This limits the functions that could be executed during unpickling. Arbitrary objects will no longer be allowed to be loaded via this mode unless they are explicitly allowlisted by the user via `torch.serialization.add_safe_globals`. We recommend you start setting `weights_only=True` for any use case where you don't have full control of the loaded file. Please open an issue on GitHub for any issues related to this experimental feature.\n",
      "  state = torch.load(model_filename)\n"
     ]
    },
    {
     "name": "stdout",
     "output_type": "stream",
     "text": [
      "tôi đang bay\n"
     ]
    }
   ],
   "source": [
    "print(translate(\"I am flying\"))"
   ]
  }
 ],
 "metadata": {
  "kernelspec": {
   "display_name": "transformer",
   "language": "python",
   "name": "python3"
  },
  "language_info": {
   "codemirror_mode": {
    "name": "ipython",
    "version": 3
   },
   "file_extension": ".py",
   "mimetype": "text/x-python",
   "name": "python",
   "nbconvert_exporter": "python",
   "pygments_lexer": "ipython3",
   "version": "3.12.5"
  },
  "orig_nbformat": 4
 },
 "nbformat": 4,
 "nbformat_minor": 2
}
